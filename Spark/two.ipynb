{
 "cells": [
  {
   "cell_type": "code",
   "execution_count": 1,
   "metadata": {},
   "outputs": [
    {
     "name": "stdout",
     "output_type": "stream",
     "text": [
      "3.4.1\n"
     ]
    }
   ],
   "source": [
    "# Ελεγχος version pyspark .. Θέλουμε το 2.4.1\n",
    "import pyspark\n",
    "print(pyspark.__version__)"
   ]
  },
  {
   "cell_type": "code",
   "execution_count": 2,
   "metadata": {},
   "outputs": [],
   "source": [
    "# add java to path .. δεν μπορουσα να βρω αλλον τροπο να τρέξει η spark.\n",
    "import os\n",
    "os.environ[\"JAVA_HOME\"] = \"C:\\\\Program Files\\\\Java\\\\jdk-17\"\n",
    "os.environ[\"PATH\"] += \";C:\\\\Program Files\\\\Java\\\\jdk-17\\\\bin\""
   ]
  },
  {
   "cell_type": "code",
   "execution_count": 3,
   "metadata": {},
   "outputs": [],
   "source": [
    "from pyspark.sql import SparkSession\n",
    "from pyspark.sql.functions import col"
   ]
  },
  {
   "cell_type": "code",
   "execution_count": 4,
   "metadata": {},
   "outputs": [],
   "source": [
    "# Φτιάχνουμε ενα spark session\n",
    "spark = SparkSession.builder.appName(\"TemperatureAnalysis\").getOrCreate()"
   ]
  },
  {
   "cell_type": "code",
   "execution_count": 7,
   "metadata": {},
   "outputs": [],
   "source": [
    "agn = \"data/agn.us.txt\"\n",
    "ainv = \"data/ainv.us.txt\"\n",
    "ale = \"data/ale.us.txt\"\n",
    "\n",
    "agn_data = spark.read.csv(agn, header=True)\n",
    "ainv_data = spark.read.csv(ainv, header=True)\n",
    "ale_data = spark.read.csv(ale, header=True)"
   ]
  },
  {
   "cell_type": "code",
   "execution_count": 8,
   "metadata": {},
   "outputs": [
    {
     "name": "stdout",
     "output_type": "stream",
     "text": [
      "+----------+------+------+------+------+-------+-------+\n",
      "|      Date|  Open|  High|   Low| Close| Volume|OpenInt|\n",
      "+----------+------+------+------+------+-------+-------+\n",
      "|2005-01-03| 32.31| 32.31|31.527|31.616|1027044|      0|\n",
      "|2005-01-04|31.527|31.616| 31.22|31.338|1927762|      0|\n",
      "|2005-01-05|30.971|31.051|30.714|30.843| 943399|      0|\n",
      "|2005-01-06|30.843|31.398|30.764| 31.26| 662398|      0|\n",
      "|2005-01-07| 31.26| 31.26|30.456|30.566|1087886|      0|\n",
      "|2005-01-10|30.506| 31.23|30.486|30.863| 896381|      0|\n",
      "|2005-01-11|30.843|30.903|30.199|30.377| 835841|      0|\n",
      "|2005-01-12|30.456|30.466|29.872| 30.07|1476041|      0|\n",
      "|2005-01-13| 30.07|30.605|29.882|30.129| 772578|      0|\n",
      "|2005-01-14|30.189|30.337| 30.07|30.239| 453538|      0|\n",
      "|2005-01-18| 30.09|30.724|29.862|30.496| 592979|      0|\n",
      "|2005-01-19|30.506|30.605|29.852| 30.08| 694685|      0|\n",
      "|2005-01-20| 30.06|30.407| 30.05|  30.1| 858644|      0|\n",
      "|2005-01-21|30.129|30.307|29.584|29.723|1040463|      0|\n",
      "|2005-01-24|29.763|29.931|29.287|29.346| 920193|      0|\n",
      "|2005-01-25|29.465|29.644|29.188|29.287| 555647|      0|\n",
      "|2005-01-26|29.326|29.495|29.168|29.336| 874385|      0|\n",
      "|2005-01-27|29.217|29.733|    29|29.653| 636871|      0|\n",
      "|2005-01-28|29.614|29.921|29.198|29.644| 771367|      0|\n",
      "|2005-01-31|29.872|30.149|29.317|29.564| 884878|      0|\n",
      "+----------+------+------+------+------+-------+-------+\n",
      "only showing top 20 rows\n",
      "\n",
      "None\n"
     ]
    }
   ],
   "source": [
    "# Ελεγχος αν διαβαστηκαν σωστα τα αρχεια\n",
    "print(agn_data.show())"
   ]
  },
  {
   "cell_type": "code",
   "execution_count": null,
   "metadata": {},
   "outputs": [],
   "source": [
    "# Ελεγχος αν διαβαστηκαν σωστα τα αρχεια\n",
    "print(ainv_data.show())"
   ]
  },
  {
   "cell_type": "code",
   "execution_count": null,
   "metadata": {},
   "outputs": [],
   "source": [
    "# Ελεγχος αν διαβαστηκαν σωστα τα αρχεια\n",
    "print(ale_data.show())"
   ]
  }
 ],
 "metadata": {
  "kernelspec": {
   "display_name": "Python 3",
   "language": "python",
   "name": "python3"
  },
  "language_info": {
   "codemirror_mode": {
    "name": "ipython",
    "version": 3
   },
   "file_extension": ".py",
   "mimetype": "text/x-python",
   "name": "python",
   "nbconvert_exporter": "python",
   "pygments_lexer": "ipython3",
   "version": "3.10.7"
  }
 },
 "nbformat": 4,
 "nbformat_minor": 2
}
