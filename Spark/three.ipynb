{
 "cells": [
  {
   "cell_type": "code",
   "execution_count": 1,
   "metadata": {},
   "outputs": [
    {
     "name": "stdout",
     "output_type": "stream",
     "text": [
      "3.4.1\n"
     ]
    }
   ],
   "source": [
    "# Ελεγχος version pyspark .. Θέλουμε το 3.4.1\n",
    "import pyspark\n",
    "print(pyspark.__version__)"
   ]
  },
  {
   "cell_type": "code",
   "execution_count": 2,
   "metadata": {},
   "outputs": [],
   "source": [
    "# add java to path .. δεν μπορουσα να βρω αλλον τροπο να τρέξει η spark.\n",
    "# (θελουμε την Java 17 επειδη μονο η Java 8 , Java 11 και Java 17 δουλευει με το pyspark)\n",
    "import os\n",
    "os.environ[\"JAVA_HOME\"] = \"C:\\\\Program Files\\\\Java\\\\jdk-17\"\n",
    "os.environ[\"PATH\"] += \";C:\\\\Program Files\\\\Java\\\\jdk-17\\\\bin\""
   ]
  },
  {
   "cell_type": "code",
   "execution_count": 3,
   "metadata": {},
   "outputs": [],
   "source": [
    "from pyspark.sql import SparkSession\n",
    "from pyspark.sql.functions import col, when, avg, format_number\n",
    "from pyspark.sql.types import FloatType\n",
    "import pandas as pd"
   ]
  },
  {
   "cell_type": "code",
   "execution_count": 4,
   "metadata": {},
   "outputs": [],
   "source": [
    "# Διαβάζομε τα δεδομένα\n",
    "\n",
    "tour_occ_ninat = \"data/tour_occ_ninat.xlsx\"\n",
    "\n",
    "excel_data = pd.read_excel(tour_occ_ninat, header=8)"
   ]
  },
  {
   "cell_type": "code",
   "execution_count": 5,
   "metadata": {},
   "outputs": [],
   "source": [
    "# Κάνω το excel σε csv για να το βαλω στην spark , επειδη δεν μου δουλευε το spark-excel\n",
    "\n",
    "excel_data.to_csv(\"data/excel_data.csv\", index=False)"
   ]
  },
  {
   "cell_type": "code",
   "execution_count": 6,
   "metadata": {},
   "outputs": [],
   "source": [
    "# Φτιάχνουμε ενα spark session\n",
    "spark = SparkSession.builder.appName(\"EurostatAnalysis\").getOrCreate()"
   ]
  },
  {
   "cell_type": "code",
   "execution_count": 7,
   "metadata": {},
   "outputs": [],
   "source": [
    "# Διαβαζουμε το csv με την spark\n",
    "spark_df = spark.read.option(\"header\", \"true\").csv(\"data/excel_data.csv\")"
   ]
  },
  {
   "cell_type": "code",
   "execution_count": 8,
   "metadata": {},
   "outputs": [
    {
     "name": "stdout",
     "output_type": "stream",
     "text": [
      "+------------------------------------------------+---------+---------+---------+---------+---------+---------+---------+---------+---------+---------+\n",
      "|GEO/TIME                                        |2006     |2007     |2008     |2009     |2010     |2011     |2012     |2013     |2014     |2015     |\n",
      "+------------------------------------------------+---------+---------+---------+---------+---------+---------+---------+---------+---------+---------+\n",
      "|Belgium                                         |16039090 |16271311 |16360702 |15451017 |16169676 |16723867 |16432646 |16511721 |17068872 |18852087 |\n",
      "|Bulgaria                                        |11944694 |12006786 |11791454 |9460922  |10547112 |12426723 |13451440 |14370426 |14077798 |13352281 |\n",
      "|Czech Republic                                  |20090348 |20610186 |19987022 |17746893 |18365947 |19424839 |21793985 |22144896 |22110112 |23286515 |\n",
      "|Denmark                                         |9453026  |9327579  |8918197  |8299403  |8981992  |9491137  |9608124  |9914273  |10608119 |11171416 |\n",
      "|Germany (until 1990 former territory of the FRG)|52947373 |54485379 |56239679 |54096574 |59658760 |63081467 |68161503 |71191942 |74805253 |78827773 |\n",
      "|Estonia                                         |3020367  |2915456  |2932662  |2740696  |3203721  |3748865  |3823039  |3909326  |3919299  |3770207  |\n",
      "|Ireland                                         |21652000 |:        |:        |:        |:        |:        |11839245 |10871806 |11276424 |13462348 |\n",
      "|Greece                                          |43055381 |48081473 |47973949 |57413304 |59184397 |65514230 |61054383 |68992640 |74675156 |78254524 |\n",
      "|Spain                                           |224518083|225450241|223756216|200551728|213349649|239369167|243389006|252447766|259635794|269418103|\n",
      "|France                                          |105865432|108567043|106993811|98705212 |120390105|123227704|125038453|132251136|130908700|130464997|\n",
      "|Croatia                                         |32858014 |33701925 |33902735 |33357844 |33234882 |35389002 |57079967 |59378896 |61072661 |65683010 |\n",
      "|Italy                                           |156861341|163465680|161797434|159493866|165202498|176474062|180594988|184793382|186792507|192607930|\n",
      "|Cyprus                                          |13310257 |13197004 |13208954 |11666663 |12448158 |13112596 |13488127 |13152589 |12884399 |12550320 |\n",
      "|Latvia                                          |1872393  |1935984  |2115618  |1699562  |1912336  |2257021  |2429093  |2639434  |2875934  |2873885  |\n",
      "|Lithuania                                       |1514197  |1609998  |1626829  |1395899  |1571325  |1883003  |2680048  |2906201  |3033826  |3010727  |\n",
      "|Luxembourg                                      |2399913  |2328688  |2249545  |2075831  |1717130  |2057883  |2298068  |2313124  |2513585  |2655733  |\n",
      "|Hungary                                         |10045891 |10170808 |10009531 |9220148  |9358373  |9920339  |11392183 |11982883 |12351330 |12962395 |\n",
      "|Malta                                           |7094031  |7749831  |7581137  |6550794  |7208295  |7361449  |7498421  |8172407  |8428215  |8542055  |\n",
      "|Netherlands                                     |26886500 |27952200 |25267600 |25013700 |26799800 |27739000 |27845942 |31770508 |34423552 |37297588 |\n",
      "|Austria                                         |70017089 |71518637 |74730956 |72224605 |72585976 |73647325 |77158431 |78433546 |78099096 |80304956 |\n",
      "+------------------------------------------------+---------+---------+---------+---------+---------+---------+---------+---------+---------+---------+\n",
      "only showing top 20 rows\n",
      "\n"
     ]
    }
   ],
   "source": [
    "# Ενα print για να δουμε οτι διαβασαμε σωστα τα δεδομενα\n",
    "spark_df.show(truncate=False)"
   ]
  },
  {
   "cell_type": "code",
   "execution_count": 9,
   "metadata": {},
   "outputs": [],
   "source": [
    "# Αντικαθηστώ το \":\" με 0 για να βγουν σωστά οι μέση όροι\n",
    "# και οποιοδήποτε αλλο string γινεται 0\n",
    "# και μετατρέπω τα strings σε float για μετεπιτα υπολογισμούς\n",
    "\n",
    "year_columns = [col for col in spark_df.columns if col.startswith(\"20\")]\n",
    "for year_col in year_columns:\n",
    "    spark_df = spark_df.withColumn(\n",
    "        year_col,\n",
    "        when(col(year_col).cast(FloatType()).isNotNull(), col(year_col).cast(FloatType())).otherwise(0.0)\n",
    "    )"
   ]
  },
  {
   "cell_type": "markdown",
   "metadata": {},
   "source": [
    "# Ερωτημα 3.1 "
   ]
  },
  {
   "cell_type": "code",
   "execution_count": 10,
   "metadata": {},
   "outputs": [],
   "source": [
    "# Βρίσκω τον μέσο όρο των στηλών για κάθε χρονο\n",
    "year_columns = [str(year) for year in range(2007, 2015)]\n",
    "average_columns = [col(column) for column in year_columns]\n",
    "average_column = sum(average_columns) / len(average_columns)\n",
    "result = spark_df.select(\"GEO/TIME\", average_column.alias(\"AverageTourists\")) \\\n",
    "    .groupBy(\"GEO/TIME\").avg(\"AverageTourists\")"
   ]
  },
  {
   "cell_type": "code",
   "execution_count": 11,
   "metadata": {},
   "outputs": [
    {
     "name": "stdout",
     "output_type": "stream",
     "text": [
      "+------------------------------------------+--------------------+\n",
      "|GEO/TIME                                  |avg(AverageTourists)|\n",
      "+------------------------------------------+--------------------+\n",
      "|Sweden                                    |1.137128175E7       |\n",
      "|Turkey                                    |2.3396917E7         |\n",
      "|France                                    |1.18260271E8        |\n",
      "|Greece                                    |6.0361191E7         |\n",
      "|Slovakia                                  |4234543.375         |\n",
      "|Belgium                                   |1.63737265E7        |\n",
      "|Finland                                   |5450927.375         |\n",
      "|Malta                                     |7568818.625         |\n",
      "|Croatia                                   |4.338973875E7       |\n",
      "|Italy                                     |1.72326804E8        |\n",
      "|Lithuania                                 |2088391.125         |\n",
      "|Norway                                    |7966946.375         |\n",
      "|Spain                                     |2.32243696E8        |\n",
      "|Former Yugoslav Republic of Macedonia, the|625334.375          |\n",
      "|Denmark                                   |9393603.0           |\n",
      "|Ireland                                   |4248434.375         |\n",
      "|Liechtenstein                             |149480.875          |\n",
      "|Iceland                                   |2609967.0           |\n",
      "|Cyprus                                    |1.289481125E7       |\n",
      "|Estonia                                   |3399133.0           |\n",
      "+------------------------------------------+--------------------+\n",
      "only showing top 20 rows\n",
      "\n"
     ]
    }
   ],
   "source": [
    "result.show(truncate=False)"
   ]
  },
  {
   "cell_type": "markdown",
   "metadata": {},
   "source": [
    "# Ερωτημα 3.2"
   ]
  },
  {
   "cell_type": "code",
   "execution_count": 12,
   "metadata": {},
   "outputs": [],
   "source": [
    "def compare_tourist_counts(countries):\n",
    "    # Get the columns representing years\n",
    "    year_columns = spark_df.columns[1:]  # Exclude the first column which should be the country names\n",
    "\n",
    "    # Collect the country rows as a list\n",
    "    data_rows = spark_df.collect()\n",
    "\n",
    "    # Initialize a dictionary to store the results\n",
    "    result = {country: [] for country in countries}\n",
    "\n",
    "    # Compare tourist counts for each selected country against Greece\n",
    "    for country in countries:\n",
    "        country_row = [row for row in data_rows if row[0] == country]\n",
    "\n",
    "        if country_row:\n",
    "            country_row = country_row[0]\n",
    "            for idx, year in enumerate(year_columns):\n",
    "                year_val = int(year)  # Convert column names to integers for comparison\n",
    "                greece_val = int([row for row in data_rows if row[0] == \"Greece\"][0][idx + 1])\n",
    "\n",
    "                if country_row[idx + 1] < greece_val:  # Compare if the country value is less than Greece\n",
    "                    result[country].append(year_val)\n",
    "\n",
    "    return result"
   ]
  },
  {
   "cell_type": "code",
   "execution_count": 13,
   "metadata": {},
   "outputs": [
    {
     "name": "stdout",
     "output_type": "stream",
     "text": [
      "Για 10 χρόνια, Η Ελλάδα είχε αριθμό διανυκτερεύσεων μεγαλύτερο απο αυτην την χώρα 'Belgium' , Οι συγκεκριμένες χρονιές: [2006, 2007, 2008, 2009, 2010, 2011, 2012, 2013, 2014, 2015]\n",
      "Για 10 χρόνια, Η Ελλάδα είχε αριθμό διανυκτερεύσεων μεγαλύτερο απο αυτην την χώρα 'Bulgaria' , Οι συγκεκριμένες χρονιές: [2006, 2007, 2008, 2009, 2010, 2011, 2012, 2013, 2014, 2015]\n",
      "Για 10 χρόνια, Η Ελλάδα είχε αριθμό διανυκτερεύσεων μεγαλύτερο απο αυτην την χώρα 'Czech Republic' , Οι συγκεκριμένες χρονιές: [2006, 2007, 2008, 2009, 2010, 2011, 2012, 2013, 2014, 2015]\n",
      "Για 10 χρόνια, Η Ελλάδα είχε αριθμό διανυκτερεύσεων μεγαλύτερο απο αυτην την χώρα 'Denmark' , Οι συγκεκριμένες χρονιές: [2006, 2007, 2008, 2009, 2010, 2011, 2012, 2013, 2014, 2015]\n",
      "Για 2 χρόνια, Η Ελλάδα είχε αριθμό διανυκτερεύσεων μεγαλύτερο απο αυτην την χώρα 'Germany (until 1990 former territory of the FRG)' , Οι συγκεκριμένες χρονιές: [2009, 2011]\n"
     ]
    }
   ],
   "source": [
    "\n",
    "# Έβαλα τις πρώτες 5 χώρες\n",
    "\n",
    "selected_countries = [\"Belgium\", \"Bulgaria\", \"Czech Republic\", \"Denmark\", \"Germany (until 1990 former territory of the FRG)\"]\n",
    "result = compare_tourist_counts(selected_countries)\n",
    "\n",
    "# Print the years where Greece had higher tourist counts than the selected countries\n",
    "for country, years in result.items():\n",
    "    if len(years) > 0:\n",
    "        print(f\"Για {len(years)} χρόνια, Η Ελλάδα είχε αριθμό διανυκτερεύσεων μεγαλύτερο απο αυτην την χώρα '{country}' , Οι συγκεκριμένες χρονιές: {years}\")\n",
    "    else:\n",
    "        print(f\"Η Ελλάδα δεν ειχε ποτε μεγαλύτερο αριθμό διανυκτερεύσεων απο την χώρα '{country}'\")"
   ]
  }
 ],
 "metadata": {
  "kernelspec": {
   "display_name": "Python 3",
   "language": "python",
   "name": "python3"
  },
  "language_info": {
   "codemirror_mode": {
    "name": "ipython",
    "version": 3
   },
   "file_extension": ".py",
   "mimetype": "text/x-python",
   "name": "python",
   "nbconvert_exporter": "python",
   "pygments_lexer": "ipython3",
   "version": "3.10.4"
  }
 },
 "nbformat": 4,
 "nbformat_minor": 2
}
