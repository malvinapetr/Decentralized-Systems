{
 "cells": [
  {
   "cell_type": "code",
   "execution_count": 501,
   "metadata": {},
   "outputs": [
    {
     "name": "stdout",
     "output_type": "stream",
     "text": [
      "3.5.0\n"
     ]
    }
   ],
   "source": [
    "# Ελεγχος version pyspark .. Θέλουμε το 3.4.1\n",
    "import pyspark\n",
    "print(pyspark.__version__)"
   ]
  },
  {
   "cell_type": "code",
   "execution_count": 502,
   "metadata": {},
   "outputs": [],
   "source": [
    "# add java to path .. δεν μπορουσα να βρω αλλον τροπο να τρέξει η spark.\n",
    "# (θελουμε την Java 17 επειδη μονο η Java 8 , Java 11 και Java 17 δουλευει με το pyspark)\n",
    "import os\n",
    "os.environ[\"JAVA_HOME\"] = \"C:\\\\Program Files\\\\Java\\\\jdk-17\"\n",
    "os.environ[\"PATH\"] += \";C:\\\\Program Files\\\\Java\\\\jdk-17\\\\bin\""
   ]
  },
  {
   "cell_type": "code",
   "execution_count": 503,
   "metadata": {},
   "outputs": [],
   "source": [
    "from pyspark.sql import SparkSession\n",
    "from pyspark.sql.functions import col, when, monotonically_increasing_id\n",
    "from pyspark.sql.types import FloatType\n",
    "import pandas as pd"
   ]
  },
  {
   "cell_type": "code",
   "execution_count": 504,
   "metadata": {},
   "outputs": [],
   "source": [
    "# Διαβάζομε τα δεδομένα\n",
    "\n",
    "tour_occ_ninat = \"data/tour_occ_ninat.xlsx\"\n",
    "\n",
    "\n",
    "excel_data = pd.read_excel(tour_occ_ninat, header=8)"
   ]
  },
  {
   "cell_type": "code",
   "execution_count": 505,
   "metadata": {},
   "outputs": [],
   "source": [
    "# Κάνω το excel σε csv για να το βαλω στην spark , επειδη δεν μου δουλευε το spark-excel\n",
    "\n",
    "excel_data.to_csv(\"data/excel_data.csv\", index=False)"
   ]
  },
  {
   "cell_type": "code",
   "execution_count": 506,
   "metadata": {},
   "outputs": [],
   "source": [
    "# Φτιάχνουμε ενα spark session\n",
    "spark = SparkSession.builder.appName(\"EurostatAnalysis\").getOrCreate()"
   ]
  },
  {
   "cell_type": "code",
   "execution_count": 507,
   "metadata": {},
   "outputs": [],
   "source": [
    "# Διαβαζουμε το csv με την spark\n",
    "\n",
    "spark_df = spark.read.option(\"header\", \"true\").csv(\"data/excel_data.csv\")"
   ]
  },
  {
   "cell_type": "code",
   "execution_count": 508,
   "metadata": {},
   "outputs": [
    {
     "name": "stdout",
     "output_type": "stream",
     "text": [
      "+------------------------------------------------+---------+---------+---------+---------+---------+---------+---------+---------+---------+---------+\n",
      "|GEO/TIME                                        |2006     |2007     |2008     |2009     |2010     |2011     |2012     |2013     |2014     |2015     |\n",
      "+------------------------------------------------+---------+---------+---------+---------+---------+---------+---------+---------+---------+---------+\n",
      "|Belgium                                         |16039090 |16271311 |16360702 |15451017 |16169676 |16723867 |16432646 |16511721 |17068872 |18852087 |\n",
      "|Bulgaria                                        |11944694 |12006786 |11791454 |9460922  |10547112 |12426723 |13451440 |14370426 |14077798 |13352281 |\n",
      "|Czech Republic                                  |20090348 |20610186 |19987022 |17746893 |18365947 |19424839 |21793985 |22144896 |22110112 |23286515 |\n",
      "|Denmark                                         |9453026  |9327579  |8918197  |8299403  |8981992  |9491137  |9608124  |9914273  |10608119 |11171416 |\n",
      "|Germany (until 1990 former territory of the FRG)|52947373 |54485379 |56239679 |54096574 |59658760 |63081467 |68161503 |71191942 |74805253 |78827773 |\n",
      "|Estonia                                         |3020367  |2915456  |2932662  |2740696  |3203721  |3748865  |3823039  |3909326  |3919299  |3770207  |\n",
      "|Ireland                                         |21652000 |:        |:        |:        |:        |:        |11839245 |10871806 |11276424 |13462348 |\n",
      "|Greece                                          |43055381 |48081473 |47973949 |57413304 |59184397 |65514230 |61054383 |68992640 |74675156 |78254524 |\n",
      "|Spain                                           |224518083|225450241|223756216|200551728|213349649|239369167|243389006|252447766|259635794|269418103|\n",
      "|France                                          |105865432|108567043|106993811|98705212 |120390105|123227704|125038453|132251136|130908700|130464997|\n",
      "|Croatia                                         |32858014 |33701925 |33902735 |33357844 |33234882 |35389002 |57079967 |59378896 |61072661 |65683010 |\n",
      "|Italy                                           |156861341|163465680|161797434|159493866|165202498|176474062|180594988|184793382|186792507|192607930|\n",
      "|Cyprus                                          |13310257 |13197004 |13208954 |11666663 |12448158 |13112596 |13488127 |13152589 |12884399 |12550320 |\n",
      "|Latvia                                          |1872393  |1935984  |2115618  |1699562  |1912336  |2257021  |2429093  |2639434  |2875934  |2873885  |\n",
      "|Lithuania                                       |1514197  |1609998  |1626829  |1395899  |1571325  |1883003  |2680048  |2906201  |3033826  |3010727  |\n",
      "|Luxembourg                                      |2399913  |2328688  |2249545  |2075831  |1717130  |2057883  |2298068  |2313124  |2513585  |2655733  |\n",
      "|Hungary                                         |10045891 |10170808 |10009531 |9220148  |9358373  |9920339  |11392183 |11982883 |12351330 |12962395 |\n",
      "|Malta                                           |7094031  |7749831  |7581137  |6550794  |7208295  |7361449  |7498421  |8172407  |8428215  |8542055  |\n",
      "|Netherlands                                     |26886500 |27952200 |25267600 |25013700 |26799800 |27739000 |27845942 |31770508 |34423552 |37297588 |\n",
      "|Austria                                         |70017089 |71518637 |74730956 |72224605 |72585976 |73647325 |77158431 |78433546 |78099096 |80304956 |\n",
      "|Poland                                          |10555119 |10918100 |10173237 |9609447  |10064628 |10620264 |11876599 |12471268 |12992241 |13757657 |\n",
      "|Portugal                                        |26842277 |28669799 |28126716 |25024678 |25386084 |27860103 |29033970 |32078773 |35630345 |38897329 |\n",
      "|Romania                                         |3242105  |3586439  |3359244  |2667666  |2766581  |3066882  |3291504  |3471152  |3762465  |4460017  |\n",
      "|Slovenia                                        |4332049  |4707220  |5085308  |4656825  |4680456  |5106452  |5702306  |5887862  |6004623  |6529086  |\n",
      "|Slovakia                                        |5058147  |5115168  |5144831  |3707327  |3749566  |3990300  |4039410  |4277598  |3852147  |4384800  |\n",
      "|Finland                                         |5003750  |5328215  |5502554  |4890006  |5005068  |5507468  |5802959  |5860447  |5710702  |5510350  |\n",
      "|Sweden                                          |10942968 |11200359 |10920106 |11317502 |11184995 |11344435 |11299455 |11442690 |12260712 |13612924 |\n",
      "|United Kingdom                                  |90740612 |84690331 |80393221 |79920519 |84610527 |87993917 |105455528|:        |:        |:        |\n",
      "|Iceland                                         |1687744  |1838330  |1894457  |2028069  |2089527  |2384477  |2873790  |3366252  |4404834  |5605634  |\n",
      "|Liechtenstein                                   |155171   |167748   |171425   |158414   |150336   |148955   |136276   |132491   |130202   |110465   |\n",
      "|Norway                                          |7921169  |8305287  |8119045  |7500431  |7881525  |7844241  |7940468  |7693241  |8451333  |8851422  |\n",
      "|Switzerland                                     |:        |:        |:        |:        |:        |:        |:        |:        |:        |:        |\n",
      "|Montenegro                                      |:        |:        |:        |:        |:        |2743414  |8143007  |:        |:        |10307371 |\n",
      "|Former Yugoslav Republic of Macedonia, the      |:        |:        |579549   |575117   |548640   |740532   |794564   |864125   |900148   |1020943  |\n",
      "|Serbia                                          |:        |:        |:        |:        |:        |:        |1766627  |1879208  |2074680  |2402065  |\n",
      "|Turkey                                          |:        |:        |:        |:        |:        |:        |:        |89594261 |97581075 |96400316 |\n",
      "+------------------------------------------------+---------+---------+---------+---------+---------+---------+---------+---------+---------+---------+\n",
      "\n"
     ]
    }
   ],
   "source": [
    "# Ενα print για να δουμε οτι διαβασαμε σωστα τα δεδομενα\n",
    "spark_df.show(spark_df.count(), truncate=False)"
   ]
  },
  {
   "cell_type": "code",
   "execution_count": 509,
   "metadata": {},
   "outputs": [],
   "source": [
    "# Αντικαθηστώ το \":\" με 0 για να βγουν σωστά οι μέσοι όροι\n",
    "# και οποιοδήποτε αλλο string γινεται 0\n",
    "\n",
    "year_columns = [col for col in spark_df.columns if col.startswith(\"20\")]\n",
    "for year_col in year_columns:\n",
    "    spark_df = spark_df.withColumn(\n",
    "        year_col,\n",
    "        when(col(year_col).cast(FloatType()).isNotNull(), col(year_col).cast(FloatType())).otherwise(0.0)\n",
    "    )"
   ]
  },
  {
   "cell_type": "code",
   "execution_count": 510,
   "metadata": {},
   "outputs": [
    {
     "name": "stdout",
     "output_type": "stream",
     "text": [
      "+---+------------------------------------------------+---------+---------+---------+---------+---------+---------+---------+---------+---------+---------+\n",
      "|id |GEO/TIME                                        |2006     |2007     |2008     |2009     |2010     |2011     |2012     |2013     |2014     |2015     |\n",
      "+---+------------------------------------------------+---------+---------+---------+---------+---------+---------+---------+---------+---------+---------+\n",
      "|1  |Belgium                                         |16039090 |16271311 |16360702 |15451017 |16169676 |16723867 |16432646 |16511721 |17068872 |18852088 |\n",
      "|2  |Bulgaria                                        |11944694 |12006786 |11791454 |9460922  |10547112 |12426723 |13451440 |14370426 |14077798 |13352281 |\n",
      "|3  |Czech Republic                                  |20090348 |20610186 |19987022 |17746892 |18365948 |19424840 |21793984 |22144896 |22110112 |23286516 |\n",
      "|4  |Denmark                                         |9453026  |9327579  |8918197  |8299403  |8981992  |9491137  |9608124  |9914273  |10608119 |11171416 |\n",
      "|5  |Germany (until 1990 former territory of the FRG)|52947372 |54485380 |56239680 |54096576 |59658760 |63081468 |68161504 |71191944 |74805256 |78827776 |\n",
      "|6  |Estonia                                         |3020367  |2915456  |2932662  |2740696  |3203721  |3748865  |3823039  |3909326  |3919299  |3770207  |\n",
      "|7  |Ireland                                         |21652000 |0        |0        |0        |0        |0        |11839245 |10871806 |11276424 |13462348 |\n",
      "|8  |Greece                                          |43055380 |48081472 |47973948 |57413304 |59184396 |65514232 |61054384 |68992640 |74675152 |78254528 |\n",
      "|9  |Spain                                           |224518080|225450240|223756224|200551728|213349648|239369168|243389008|252447760|259635792|269418112|\n",
      "|10 |France                                          |105865432|108567040|106993808|98705216 |120390104|123227704|125038456|132251136|130908704|130465000|\n",
      "|11 |Croatia                                         |32858014 |33701924 |33902736 |33357844 |33234882 |35389000 |57079968 |59378896 |61072660 |65683008 |\n",
      "|12 |Italy                                           |156861344|163465680|161797440|159493872|165202496|176474064|180594992|184793376|186792512|192607936|\n",
      "|13 |Cyprus                                          |13310257 |13197004 |13208954 |11666663 |12448158 |13112596 |13488127 |13152589 |12884399 |12550320 |\n",
      "|14 |Latvia                                          |1872393  |1935984  |2115618  |1699562  |1912336  |2257021  |2429093  |2639434  |2875934  |2873885  |\n",
      "|15 |Lithuania                                       |1514197  |1609998  |1626829  |1395899  |1571325  |1883003  |2680048  |2906201  |3033826  |3010727  |\n",
      "|16 |Luxembourg                                      |2399913  |2328688  |2249545  |2075831  |1717130  |2057883  |2298068  |2313124  |2513585  |2655733  |\n",
      "|17 |Hungary                                         |10045891 |10170808 |10009531 |9220148  |9358373  |9920339  |11392183 |11982883 |12351330 |12962395 |\n",
      "|18 |Malta                                           |7094031  |7749831  |7581137  |6550794  |7208295  |7361449  |7498421  |8172407  |8428215  |8542055  |\n",
      "|19 |Netherlands                                     |26886500 |27952200 |25267600 |25013700 |26799800 |27739000 |27845942 |31770508 |34423552 |37297588 |\n",
      "|20 |Austria                                         |70017088 |71518640 |74730960 |72224608 |72585976 |73647328 |77158432 |78433544 |78099096 |80304960 |\n",
      "|21 |Poland                                          |10555119 |10918100 |10173237 |9609447  |10064628 |10620264 |11876599 |12471268 |12992241 |13757657 |\n",
      "|22 |Portugal                                        |26842276 |28669800 |28126716 |25024678 |25386084 |27860104 |29033970 |32078772 |35630344 |38897328 |\n",
      "|23 |Romania                                         |3242105  |3586439  |3359244  |2667666  |2766581  |3066882  |3291504  |3471152  |3762465  |4460017  |\n",
      "|24 |Slovenia                                        |4332049  |4707220  |5085308  |4656825  |4680456  |5106452  |5702306  |5887862  |6004623  |6529086  |\n",
      "|25 |Slovakia                                        |5058147  |5115168  |5144831  |3707327  |3749566  |3990300  |4039410  |4277598  |3852147  |4384800  |\n",
      "|26 |Finland                                         |5003750  |5328215  |5502554  |4890006  |5005068  |5507468  |5802959  |5860447  |5710702  |5510350  |\n",
      "|27 |Sweden                                          |10942968 |11200359 |10920106 |11317502 |11184995 |11344435 |11299455 |11442690 |12260712 |13612924 |\n",
      "|28 |United Kingdom                                  |90740608 |84690328 |80393224 |79920520 |84610528 |87993920 |105455528|0        |0        |0        |\n",
      "|29 |Iceland                                         |1687744  |1838330  |1894457  |2028069  |2089527  |2384477  |2873790  |3366252  |4404834  |5605634  |\n",
      "|30 |Liechtenstein                                   |155171   |167748   |171425   |158414   |150336   |148955   |136276   |132491   |130202   |110465   |\n",
      "|31 |Norway                                          |7921169  |8305287  |8119045  |7500431  |7881525  |7844241  |7940468  |7693241  |8451333  |8851422  |\n",
      "|32 |Switzerland                                     |0        |0        |0        |0        |0        |0        |0        |0        |0        |0        |\n",
      "|33 |Montenegro                                      |0        |0        |0        |0        |0        |2743414  |8143007  |0        |0        |10307371 |\n",
      "|34 |Former Yugoslav Republic of Macedonia, the      |0        |0        |579549   |575117   |548640   |740532   |794564   |864125   |900148   |1020943  |\n",
      "|35 |Serbia                                          |0        |0        |0        |0        |0        |0        |1766627  |1879208  |2074680  |2402065  |\n",
      "|36 |Turkey                                          |0        |0        |0        |0        |0        |0        |0        |89594264 |97581072 |96400320 |\n",
      "+---+------------------------------------------------+---------+---------+---------+---------+---------+---------+---------+---------+---------+---------+\n",
      "\n"
     ]
    }
   ],
   "source": [
    "# Βλέπω ότι οπου ειχε string τώρα εχει 0\n",
    "# Αρίθμηση χωρών απο\n",
    "spark_df = spark_df.withColumn(\"id\", monotonically_increasing_id() + 1)\n",
    "cols = spark_df.columns\n",
    "cols.remove(\"id\")\n",
    "cols.insert(0, \"id\")\n",
    "spark_df = spark_df.select(cols)\n",
    "\n",
    "# αφαίρεση της Ε7 δεκαδικής ακρίβειας\n",
    "for year_col in year_columns:\n",
    "    spark_df = spark_df.withColumn(year_col, col(year_col).cast(\"decimal(11,0)\"))\n",
    "\n",
    "spark_df.show(spark_df.count(), truncate=False)\n"
   ]
  },
  {
   "cell_type": "code",
   "execution_count": 511,
   "metadata": {},
   "outputs": [],
   "source": [
    "# Ερωτημα 3.1 \n",
    "\n",
    "year_columns = [str(year) for year in range(2007, 2015)]"
   ]
  },
  {
   "cell_type": "code",
   "execution_count": 512,
   "metadata": {},
   "outputs": [],
   "source": [
    "# Βρίσκω τον μέσο όρο των στηλών για κάθε χρονο\n",
    "\n",
    "average_columns = [col(column) for column in year_columns]\n",
    "average_column = sum(average_columns) / len(average_columns)"
   ]
  },
  {
   "cell_type": "code",
   "execution_count": 513,
   "metadata": {},
   "outputs": [],
   "source": [
    "# Βάζω το GEO/TIME στην group by για να βρω τον μέσο όρο των χωρών\n",
    "\n",
    "result = spark_df.select(\"GEO/TIME\", average_column.alias(\"AverageTourists\")) \\\n",
    "    .groupBy(\"GEO/TIME\").avg(\"AverageTourists\")"
   ]
  },
  {
   "cell_type": "code",
   "execution_count": 514,
   "metadata": {},
   "outputs": [
    {
     "name": "stdout",
     "output_type": "stream",
     "text": [
      "+------------------------------------------+--------------------+\n",
      "|GEO/TIME                                  |avg(AverageTourists)|\n",
      "+------------------------------------------+--------------------+\n",
      "|Sweden                                    |11371281.750        |\n",
      "|Turkey                                    |23396917.000        |\n",
      "|France                                    |NULL                |\n",
      "|Greece                                    |60361191.000        |\n",
      "|Slovakia                                  |4234543.375         |\n",
      "|Belgium                                   |16373726.500        |\n",
      "|Finland                                   |5450927.375         |\n",
      "|Malta                                     |7568818.625         |\n",
      "|Croatia                                   |43389738.750        |\n",
      "|Italy                                     |NULL                |\n",
      "|Lithuania                                 |2088391.125         |\n",
      "|Norway                                    |7966946.375         |\n",
      "|Spain                                     |NULL                |\n",
      "|Former Yugoslav Republic of Macedonia, the|625334.375          |\n",
      "|Denmark                                   |9393603.000         |\n",
      "|Ireland                                   |4248434.375         |\n",
      "|Liechtenstein                             |149480.875          |\n",
      "|Iceland                                   |2609967.000         |\n",
      "|Cyprus                                    |12894811.250        |\n",
      "|Estonia                                   |3399133.000         |\n",
      "+------------------------------------------+--------------------+\n",
      "only showing top 20 rows\n",
      "\n"
     ]
    }
   ],
   "source": [
    "# Αποτέλεσμα 3.1\n",
    "\n",
    "# Ακρίβεια τρίων δεκαδικών ψηφίων\n",
    "result = result.withColumn(\"avg(AverageTourists)\", col(\"avg(AverageTourists)\").cast(\"decimal(11,3)\"))\n",
    "\n",
    "result.show(truncate=False)"
   ]
  },
  {
   "cell_type": "code",
   "execution_count": 515,
   "metadata": {},
   "outputs": [],
   "source": [
    "# Ερώτημα 3.2\n",
    "\n",
    "def compare_tourist_counts(countries):\n",
    "    # Get the columns representing years\n",
    "    year_columns = spark_df.columns[1:]  # Exclude the first column which should be the country names\n",
    "\n",
    "    # Collect the country rows as a list\n",
    "    data_rows = spark_df.collect()\n",
    "\n",
    "    # Initialize a dictionary to store the results\n",
    "    result = {country: [] for country in countries}\n",
    "\n",
    "    # Compare tourist counts for each selected country against Greece\n",
    "    for country in countries:\n",
    "        country_row = [row for row in data_rows if row[0] == country]\n",
    "\n",
    "        if country_row:\n",
    "            country_row = country_row[0]\n",
    "            for idx, year in enumerate(year_columns):\n",
    "                year_val = int(year)  # Convert column names to integers for comparison\n",
    "                greece_val = int([row for row in data_rows if row[0] == \"Greece\"][0][idx + 1])\n",
    "\n",
    "                if country_row[idx + 1] < greece_val:  # Compare if the country value is less than Greece\n",
    "                    result[country].append(year_val)\n",
    "\n",
    "    return result"
   ]
  },
  {
   "cell_type": "code",
   "execution_count": 516,
   "metadata": {},
   "outputs": [
    {
     "name": "stdout",
     "output_type": "stream",
     "text": [
      "Η Ελλάδα δεν ειχε ποτε μεγαλύτερο αριθμό διανυκτερεύσεων απο την χώρα 'Belgium'\n",
      "Η Ελλάδα δεν ειχε ποτε μεγαλύτερο αριθμό διανυκτερεύσεων απο την χώρα 'Bulgaria'\n",
      "Η Ελλάδα δεν ειχε ποτε μεγαλύτερο αριθμό διανυκτερεύσεων απο την χώρα 'Czech Republic'\n",
      "Η Ελλάδα δεν ειχε ποτε μεγαλύτερο αριθμό διανυκτερεύσεων απο την χώρα 'Denmark'\n",
      "Η Ελλάδα δεν ειχε ποτε μεγαλύτερο αριθμό διανυκτερεύσεων απο την χώρα 'Germany (until 1990 former territory of the FRG)'\n"
     ]
    }
   ],
   "source": [
    "# Έβαλα τις πρώτες 5 χώρες\n",
    "selected_countries = [\"Belgium\", \"Bulgaria\", \"Czech Republic\", \"Denmark\", \"Germany (until 1990 former territory of the FRG)\"]\n",
    "result = compare_tourist_counts(selected_countries)\n",
    "\n",
    "# Print the years where Greece had higher tourist counts than the selected countries\n",
    "for country, years in result.items():\n",
    "    if len(years) > 0:\n",
    "        print(f\"Για {len(years)} χρόνια, Η Ελλάδα είχε αριθμό διανυκτερεύσεων μεγαλύτερο απο αυτην την χώρα '{country}' , Οι συγκεκριμένες χρονιές: {years}\")\n",
    "    else:\n",
    "        print(f\"Η Ελλάδα δεν ειχε ποτε μεγαλύτερο αριθμό διανυκτερεύσεων απο την χώρα '{country}'\")"
   ]
  }
 ],
 "metadata": {
  "kernelspec": {
   "display_name": "Python 3",
   "language": "python",
   "name": "python3"
  },
  "language_info": {
   "codemirror_mode": {
    "name": "ipython",
    "version": 3
   },
   "file_extension": ".py",
   "mimetype": "text/x-python",
   "name": "python",
   "nbconvert_exporter": "python",
   "pygments_lexer": "ipython3",
   "version": "3.11.2"
  }
 },
 "nbformat": 4,
 "nbformat_minor": 2
}
