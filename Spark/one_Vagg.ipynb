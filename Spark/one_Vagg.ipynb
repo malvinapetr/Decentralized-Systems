{
 "cells": [
  {
   "cell_type": "code",
   "execution_count": 2,
   "metadata": {},
   "outputs": [
    {
     "name": "stdout",
     "output_type": "stream",
     "text": [
      "3.5.0\n"
     ]
    }
   ],
   "source": [
    "import pyspark\n",
    "print(pyspark.__version__) # simply show the current version"
   ]
  },
  {
   "cell_type": "code",
   "execution_count": 3,
   "metadata": {},
   "outputs": [],
   "source": [
    "from pyspark.sql import SparkSession\n",
    "from pyspark.sql.functions import col"
   ]
  },
  {
   "cell_type": "code",
   "execution_count": 4,
   "metadata": {},
   "outputs": [],
   "source": [
    "# spark session\n",
    "spark = SparkSession.builder.appName(\"TemperatureAnalysis\").getOrCreate()"
   ]
  },
  {
   "cell_type": "code",
   "execution_count": null,
   "metadata": {},
   "outputs": [],
   "source": [
    "tempm = \"data/tempm.txt\"    #temperature\n",
    "hum = \"data/hum.txt\"        #humidity\n",
    "\n",
    "tempm_data = spark.read.text(tempm) # read the data\n",
    "hum_data = spark.read.text(hum)     # read the data\n",
    "\n",
    "print(hum_data.show()) # show the humidity data"
   ]
  },
  {
   "cell_type": "code",
   "execution_count": null,
   "metadata": {},
   "outputs": [],
   "source": [
    "from pyspark.sql.functions import col\n",
    "\n",
    "# Φιλτράρισμα για θερμοκρασία μεταξύ 18°C και 22°C\n",
    "filtered_temp = tempm_data.filter((col(\"value\") >= 18) & (col(\"value\") <= 22))\n",
    "\n",
    "# Μετράμε τον αριθμό των ημερών που η θερμοκρασία ήταν μέσα στο εύρος 18°C έως 22°C\n",
    "days_within_range = filtered_temp.count()\n",
    "\n",
    "print(filtered_temp)\n",
    "print(days_within_range)"
   ]
  }
 ],
 "metadata": {
  "kernelspec": {
   "display_name": "Python 3",
   "language": "python",
   "name": "python3"
  },
  "language_info": {
   "codemirror_mode": {
    "name": "ipython",
    "version": 3
   },
   "file_extension": ".py",
   "mimetype": "text/x-python",
   "name": "python",
   "nbconvert_exporter": "python",
   "pygments_lexer": "ipython3",
   "version": "3.11.4"
  }
 },
 "nbformat": 4,
 "nbformat_minor": 2
}
