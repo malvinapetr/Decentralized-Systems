{
 "cells": [
  {
   "cell_type": "code",
   "execution_count": 2,
   "metadata": {},
   "outputs": [
    {
     "name": "stdout",
     "output_type": "stream",
     "text": [
      "3.4.1\n"
     ]
    }
   ],
   "source": [
    "# Ελεγχος version pyspark .. Θέλουμε το 3.4.1\n",
    "import pyspark\n",
    "print(pyspark.__version__)"
   ]
  },
  {
   "cell_type": "code",
   "execution_count": 3,
   "metadata": {},
   "outputs": [],
   "source": [
    "# add java to path .. δεν μπορουσα να βρω αλλον τροπο να τρέξει η spark.\n",
    "# (θελουμε την Java 17 επειδη μονο η Java 8 , Java 11 και Java 17 δουλευει με το pyspark)\n",
    "import os\n",
    "os.environ[\"JAVA_HOME\"] = \"C:\\\\Program Files\\\\Java\\\\jdk-17\"\n",
    "os.environ[\"PATH\"] += \";C:\\\\Program Files\\\\Java\\\\jdk-17\\\\bin\""
   ]
  },
  {
   "cell_type": "code",
   "execution_count": 30,
   "metadata": {},
   "outputs": [],
   "source": [
    "from pyspark.sql import SparkSession\n",
    "import json\n",
    "from pyspark.sql.functions import col, avg, month, stddev, date_format, max, min\n",
    "from pyspark.sql.types import TimestampType, FloatType\n"
   ]
  },
  {
   "cell_type": "code",
   "execution_count": 5,
   "metadata": {},
   "outputs": [],
   "source": [
    "# Φτιάχνουμε ενα spark session\n",
    "spark = SparkSession.builder.appName(\"TemperatureAnalysis\").getOrCreate()"
   ]
  },
  {
   "cell_type": "code",
   "execution_count": 6,
   "metadata": {},
   "outputs": [],
   "source": [
    "# Μετατρέπω τα text αρχεία σε json για να μπορέσω να τα διαβάσω με το spark\n",
    "# Επειδή δεν βρήκαμε άλλον τρόπο να τα διαβάσουμε ως text αρχεία\n",
    "convert = [[\"data/tempm.txt\", \"data/tempm.json\", \"temperature\"], [\"data/hum.txt\", \"data/hum.json\" , \"humidity\"]]\n",
    "for i,j,string in convert:\n",
    "    with open(i, 'r') as input_file, open(j, 'w') as output_file:\n",
    "        for line in input_file:\n",
    "            data = json.loads(line)\n",
    "            new_data = [{\"timestamp\": key, string: value} for key, value in data.items()]\n",
    "            json.dump(new_data, output_file)\n",
    "            output_file.write('\\n')\n",
    "\n",
    "tempm_data = spark.read.json(\"data/tempm.json\")\n",
    "hum_data = spark.read.json(\"data/hum.json\")"
   ]
  },
  {
   "cell_type": "code",
   "execution_count": 7,
   "metadata": {},
   "outputs": [],
   "source": [
    "# Ξεχωρίζω την ημερομινία απο το timestamp με την εντολή cast της pyspark\n",
    "\n",
    "tempm_data = tempm_data.withColumn(\"timestamp\", col(\"timestamp\").cast(TimestampType()))\n",
    "hum_data = hum_data.withColumn(\"timestamp\", col(\"timestamp\").cast(TimestampType()))\n",
    "\n",
    "tempm_data = tempm_data.withColumn(\"temperature\", col(\"temperature\").cast(FloatType()))\n",
    "hum_data = hum_data.withColumn(\"humidity\", col(\"humidity\").cast(FloatType()))\n",
    "\n",
    "tempm_data = tempm_data.withColumn(\"date\", col(\"timestamp\").cast(\"date\"))\n",
    "hum_data = hum_data.withColumn(\"date\", col(\"timestamp\").cast(\"date\"))\n"
   ]
  },
  {
   "cell_type": "code",
   "execution_count": 8,
   "metadata": {},
   "outputs": [
    {
     "name": "stdout",
     "output_type": "stream",
     "text": [
      "+-----------+-------------------+----------+\n",
      "|temperature|          timestamp|      date|\n",
      "+-----------+-------------------+----------+\n",
      "|        3.0|2014-02-13 06:20:00|2014-02-13|\n",
      "|        7.0|2014-02-13 13:50:00|2014-02-13|\n",
      "|        2.0|2014-02-13 06:00:00|2014-02-13|\n",
      "|        3.0|2014-02-13 03:00:00|2014-02-13|\n",
      "|        6.0|2014-02-13 13:00:00|2014-02-13|\n",
      "|        4.0|2014-02-13 18:50:00|2014-02-13|\n",
      "|        6.0|2014-02-13 13:20:00|2014-02-13|\n",
      "|        6.0|2014-02-13 15:00:00|2014-02-13|\n",
      "|        4.0|2014-02-13 08:50:00|2014-02-13|\n",
      "|        4.0|2014-02-13 21:50:00|2014-02-13|\n",
      "|        3.0|2014-02-13 08:00:00|2014-02-13|\n",
      "|        3.0|2014-02-13 07:50:00|2014-02-13|\n",
      "|        4.0|2014-02-13 08:20:00|2014-02-13|\n",
      "|        3.0|2014-02-13 21:20:00|2014-02-13|\n",
      "|        6.0|2014-02-13 11:50:00|2014-02-13|\n",
      "|        6.0|2014-02-13 11:20:00|2014-02-13|\n",
      "|        5.0|2014-02-13 17:50:00|2014-02-13|\n",
      "|        6.0|2014-02-13 11:00:00|2014-02-13|\n",
      "|        2.0|2014-02-13 05:50:00|2014-02-13|\n",
      "|        3.0|2014-02-13 20:50:00|2014-02-13|\n",
      "+-----------+-------------------+----------+\n",
      "only showing top 20 rows\n",
      "\n"
     ]
    }
   ],
   "source": [
    "# Ελέγχω αν διαβάστηκαν σωστά τα δεδομένα\n",
    "tempm_data.show()"
   ]
  },
  {
   "cell_type": "code",
   "execution_count": 9,
   "metadata": {},
   "outputs": [
    {
     "name": "stdout",
     "output_type": "stream",
     "text": [
      "+--------+-------------------+----------+\n",
      "|humidity|          timestamp|      date|\n",
      "+--------+-------------------+----------+\n",
      "|    93.0|2014-02-13 06:20:00|2014-02-13|\n",
      "|    66.0|2014-02-13 13:50:00|2014-02-13|\n",
      "|    91.0|2014-02-13 06:00:00|2014-02-13|\n",
      "|    84.0|2014-02-13 03:00:00|2014-02-13|\n",
      "|    62.0|2014-02-13 13:00:00|2014-02-13|\n",
      "|    75.0|2014-02-13 18:50:00|2014-02-13|\n",
      "|    70.0|2014-02-13 13:20:00|2014-02-13|\n",
      "|    56.0|2014-02-13 15:00:00|2014-02-13|\n",
      "|    87.0|2014-02-13 08:50:00|2014-02-13|\n",
      "|    75.0|2014-02-13 21:50:00|2014-02-13|\n",
      "|    88.0|2014-02-13 08:00:00|2014-02-13|\n",
      "|    93.0|2014-02-13 07:50:00|2014-02-13|\n",
      "|    87.0|2014-02-13 08:20:00|2014-02-13|\n",
      "|    81.0|2014-02-13 21:20:00|2014-02-13|\n",
      "|    76.0|2014-02-13 11:50:00|2014-02-13|\n",
      "|    76.0|2014-02-13 11:20:00|2014-02-13|\n",
      "|    70.0|2014-02-13 17:50:00|2014-02-13|\n",
      "|    69.0|2014-02-13 11:00:00|2014-02-13|\n",
      "|    93.0|2014-02-13 05:50:00|2014-02-13|\n",
      "|    81.0|2014-02-13 20:50:00|2014-02-13|\n",
      "+--------+-------------------+----------+\n",
      "only showing top 20 rows\n",
      "\n"
     ]
    }
   ],
   "source": [
    "# Ελέγχω αν διαβάστηκαν σωστά τα δεδομένα\n",
    "hum_data.show()"
   ]
  },
  {
   "cell_type": "markdown",
   "metadata": {},
   "source": [
    "# Ερώτημα 1.1"
   ]
  },
  {
   "cell_type": "code",
   "execution_count": 10,
   "metadata": {},
   "outputs": [
    {
     "name": "stdout",
     "output_type": "stream",
     "text": [
      "Αριθμός Ημερών με θερμοκρασίες μεταξύ 18 και 22 C: 26\n"
     ]
    }
   ],
   "source": [
    "# Φιλτράρω την θερμοκρασία μεταξύ 18°C και 22°C\n",
    "filtered_temp = tempm_data.filter((col(\"temperature\") >= 18) & (col(\"temperature\") <= 22))\n",
    "\n",
    "# Extract unique dates from the filtered DataFrame\n",
    "unique_dates = filtered_temp.select(\"date\").distinct()\n",
    "\n",
    "# Count the number of unique dates\n",
    "num_dates = unique_dates.count()\n",
    "\n",
    "# Show the unique dates and the count\n",
    "print(\"Αριθμός Ημερών με θερμοκρασίες μεταξύ 18 και 22 C:\", num_dates)\n",
    "\n",
    "#print(\"Συγκεκριμένα αυτές οι ημερομινίες είχαν θερμοκρασία μεταξύ 18 και 22 C:\")\n",
    "#unique_dates.show()"
   ]
  },
  {
   "cell_type": "markdown",
   "metadata": {},
   "source": [
    "# Ερώτημα 1.2"
   ]
  },
  {
   "cell_type": "markdown",
   "metadata": {},
   "source": [
    "##### Παραδοχή : Όταν λεει \"10 πιο κρύες μέρες και οι 10 πιο ζεστές μέρες\" θα μπορούσε ήτε να εννοεί \"10 μερες που περιηχαν την πιο θερμη θερμοκρασια και 10 μερες που περιηχαν την πιο ψυχρή\" αλλα λογικα εννοει \"10 μερες με τις ψηλοτερες avg θερμοκρασίες\" μιας και μονο αυτο βγαζει νοημα στον πραγματικό κόσμο. Οπότε βρήκα τους μεσους ορους καθε μερας παρακάτω :"
   ]
  },
  {
   "cell_type": "code",
   "execution_count": 11,
   "metadata": {},
   "outputs": [
    {
     "name": "stdout",
     "output_type": "stream",
     "text": [
      "Οι 10 ημέρες με την υψηλότερη μέση θερμοκρασία:\n",
      "+----------+------------------+\n",
      "|      date|   avg_temperature|\n",
      "+----------+------------------+\n",
      "|2014-05-22|              20.0|\n",
      "|2014-05-21| 17.63888888888889|\n",
      "|2014-06-08| 17.63888888888889|\n",
      "|2014-05-23|16.257142857142856|\n",
      "|2014-06-02|16.056338028169016|\n",
      "|2014-05-24|15.833333333333334|\n",
      "|2014-06-03|15.830985915492958|\n",
      "|2014-06-04|15.710144927536232|\n",
      "|2014-06-07|15.666666666666666|\n",
      "|2014-05-25|15.619718309859154|\n",
      "+----------+------------------+\n",
      "\n",
      "Οι 10 ημέρες με την χαμηλότερη μέση θερμοκρασία:\n",
      "+----------+------------------+\n",
      "|      date|   avg_temperature|\n",
      "+----------+------------------+\n",
      "|2014-03-27|2.8260869565217392|\n",
      "|2014-02-14| 3.391304347826087|\n",
      "|2014-03-02| 3.857142857142857|\n",
      "|2014-03-11|3.9027777777777777|\n",
      "|2014-03-01| 4.083333333333333|\n",
      "|2014-02-13|               4.1|\n",
      "|2014-03-03| 4.132075471698113|\n",
      "|2014-03-25| 4.152777777777778|\n",
      "|2014-03-05| 4.211267605633803|\n",
      "|2014-02-17| 4.211267605633803|\n",
      "+----------+------------------+\n",
      "\n"
     ]
    }
   ],
   "source": [
    "# Filter out rows with null temperatures\n",
    "tempm_data_filtered = tempm_data.filter(col(\"temperature\").isNotNull())\n",
    "\n",
    "# Aggregate temperatures by date\n",
    "daily_avg_temps = tempm_data_filtered.groupBy(\"date\").agg(avg(\"temperature\").alias(\"avg_temperature\"))\n",
    "\n",
    "# Sort the DataFrame in descending order to get the warmest days\n",
    "top_warmest_days = daily_avg_temps.orderBy(col(\"avg_temperature\").desc()).limit(10)\n",
    "\n",
    "# Sort the DatafRAM IN ASCENDING ORDER TO GET THE COLDEST DAYS\n",
    "top_coldest_days = daily_avg_temps.orderBy(col(\"avg_temperature\").asc()).limit(10)\n",
    "\n",
    "\n",
    "# Show the top 10 warmest days\n",
    "print(\"Οι 10 ημέρες με την υψηλότερη μέση θερμοκρασία:\")\n",
    "top_warmest_days.show()\n",
    "\n",
    "# Show the top 10 coldest days\n",
    "print(\"Οι 10 ημέρες με την χαμηλότερη μέση θερμοκρασία:\")\n",
    "top_coldest_days.show()"
   ]
  },
  {
   "cell_type": "markdown",
   "metadata": {},
   "source": [
    "# Ερώτημα 1.3"
   ]
  },
  {
   "cell_type": "code",
   "execution_count": 12,
   "metadata": {},
   "outputs": [],
   "source": [
    "# Αριθμός Μήνα σε Ελληνική Λέξη\n",
    "def convert_to_greek_month(number):\n",
    "    return {1: 'Ιανουάριος', 2: 'Φεβρουάριος', 3: 'Μάρτιος', 4: 'Απρίλιος', 5: 'Μάιος', 6: 'Ιούνιος', 7: 'Ιούλιος', 8: 'Αύγουστος', 9: 'Σεπτέμβριος', 10: 'Οκτώβριος', 11: 'Νοέμβριος', 12: 'Δεκέμβριος'}.get(number, \"Invalid month number\")"
   ]
  },
  {
   "cell_type": "code",
   "execution_count": 13,
   "metadata": {},
   "outputs": [
    {
     "name": "stdout",
     "output_type": "stream",
     "text": [
      "Τυπική απόκλιση της υγρασίας ανά μήνα:\n",
      "+-----+------------------+\n",
      "|month|   stddev_humidity|\n",
      "+-----+------------------+\n",
      "|    6|15.060744059108561|\n",
      "|    3|15.234461545276856|\n",
      "|    5|15.967352950493565|\n",
      "|    4|17.733347100625892|\n",
      "|    2| 9.973405675315439|\n",
      "+-----+------------------+\n",
      "\n",
      "Όπως βλέπουμε , ο μήνας με την υψηλότερη τιπική απόκλιση είναι ο : Απρίλιος (ο 4ος μήνας)\n"
     ]
    }
   ],
   "source": [
    "# Κάνω cast τον μήνα απο το timestamp\n",
    "humidity_data_filtered = hum_data.withColumn(\"month\", month(\"timestamp\"))\n",
    "\n",
    "# Χρησιμοποιώ την εντολή stddev για να βρω το standard deviation = τυπικη απόκλιση της υγρασίας ανά μήνα\n",
    "monthly_stddev_humidity = humidity_data_filtered.groupBy(\"month\").agg(stddev(\"humidity\").alias(\"stddev_humidity\"))\n",
    "print(\"Τυπική απόκλιση της υγρασίας ανά μήνα:\")\n",
    "monthly_stddev_humidity.show()\n",
    "# Find the month with the highest standard deviation\n",
    "max_stddev_month = monthly_stddev_humidity.orderBy(col(\"stddev_humidity\").desc()).first()[\"month\"]\n",
    "\n",
    "print(f\"Όπως βλέπουμε , ο μήνας με την υψηλότερη τιπική απόκλιση είναι ο : {convert_to_greek_month(max_stddev_month)} (ο {max_stddev_month}ος μήνας)\")"
   ]
  },
  {
   "cell_type": "markdown",
   "metadata": {},
   "source": [
    "# Ερώτημα 1.4"
   ]
  },
  {
   "cell_type": "code",
   "execution_count": 14,
   "metadata": {},
   "outputs": [
    {
     "name": "stdout",
     "output_type": "stream",
     "text": [
      "+-------------------+-----------+----------+--------+----------+\n",
      "|          timestamp|temperature|      date|humidity|      date|\n",
      "+-------------------+-----------+----------+--------+----------+\n",
      "|2014-02-13 06:20:00|        3.0|2014-02-13|    93.0|2014-02-13|\n",
      "|2014-02-13 13:50:00|        7.0|2014-02-13|    66.0|2014-02-13|\n",
      "|2014-02-13 06:00:00|        2.0|2014-02-13|    91.0|2014-02-13|\n",
      "|2014-02-13 03:00:00|        3.0|2014-02-13|    84.0|2014-02-13|\n",
      "|2014-02-13 13:00:00|        6.0|2014-02-13|    62.0|2014-02-13|\n",
      "|2014-02-13 18:50:00|        4.0|2014-02-13|    75.0|2014-02-13|\n",
      "|2014-02-13 13:20:00|        6.0|2014-02-13|    70.0|2014-02-13|\n",
      "|2014-02-13 15:00:00|        6.0|2014-02-13|    56.0|2014-02-13|\n",
      "|2014-02-13 08:50:00|        4.0|2014-02-13|    87.0|2014-02-13|\n",
      "|2014-02-13 21:50:00|        4.0|2014-02-13|    75.0|2014-02-13|\n",
      "|2014-02-13 08:00:00|        3.0|2014-02-13|    88.0|2014-02-13|\n",
      "|2014-02-13 07:50:00|        3.0|2014-02-13|    93.0|2014-02-13|\n",
      "|2014-02-13 08:20:00|        4.0|2014-02-13|    87.0|2014-02-13|\n",
      "|2014-02-13 21:20:00|        3.0|2014-02-13|    81.0|2014-02-13|\n",
      "|2014-02-13 11:50:00|        6.0|2014-02-13|    76.0|2014-02-13|\n",
      "|2014-02-13 11:20:00|        6.0|2014-02-13|    76.0|2014-02-13|\n",
      "|2014-02-13 17:50:00|        5.0|2014-02-13|    70.0|2014-02-13|\n",
      "|2014-02-13 11:00:00|        6.0|2014-02-13|    69.0|2014-02-13|\n",
      "|2014-02-13 05:50:00|        2.0|2014-02-13|    93.0|2014-02-13|\n",
      "|2014-02-13 20:50:00|        3.0|2014-02-13|    81.0|2014-02-13|\n",
      "+-------------------+-----------+----------+--------+----------+\n",
      "only showing top 20 rows\n",
      "\n"
     ]
    }
   ],
   "source": [
    "# Εννωνω τα 2 dataframes με την συνάρτηση join για να υπολογίσω τον δεικτη δυσφοριας\n",
    "merged_data = tempm_data.join(hum_data, \"timestamp\", \"inner\")\n",
    "\n",
    "# Show the merged DataFrame\n",
    "merged_data.show()"
   ]
  },
  {
   "cell_type": "code",
   "execution_count": 23,
   "metadata": {},
   "outputs": [
    {
     "name": "stdout",
     "output_type": "stream",
     "text": [
      "+-------------------+-----------+----------+--------+----------+----------------+\n",
      "|          timestamp|temperature|      date|humidity|      date|discomfort_index|\n",
      "+-------------------+-----------+----------+--------+----------+----------------+\n",
      "|2014-02-13 06:20:00|        3.0|2014-02-13|    93.0|2014-02-13|       1467.2914|\n",
      "|2014-02-13 13:50:00|        7.0|2014-02-13|    66.0|2014-02-13|       1014.7823|\n",
      "|2014-02-13 06:00:00|        2.0|2014-02-13|    91.0|2014-02-13|       1394.2736|\n",
      "|2014-02-13 03:00:00|        3.0|2014-02-13|    84.0|2014-02-13|       1278.4055|\n",
      "|2014-02-13 13:00:00|        6.0|2014-02-13|    62.0|2014-02-13|        916.0614|\n",
      "|2014-02-13 18:50:00|        4.0|2014-02-13|    75.0|2014-02-13|       1123.2915|\n",
      "|2014-02-13 13:20:00|        6.0|2014-02-13|    70.0|2014-02-13|       1071.7162|\n",
      "|2014-02-13 15:00:00|        6.0|2014-02-13|    56.0|2014-02-13|        804.3607|\n",
      "|2014-02-13 08:50:00|        4.0|2014-02-13|    87.0|2014-02-13|       1369.2937|\n",
      "|2014-02-13 21:50:00|        4.0|2014-02-13|    75.0|2014-02-13|       1123.2915|\n",
      "|2014-02-13 08:00:00|        3.0|2014-02-13|    88.0|2014-02-13|       1361.2069|\n",
      "|2014-02-13 07:50:00|        3.0|2014-02-13|    93.0|2014-02-13|       1467.2914|\n",
      "|2014-02-13 08:20:00|        4.0|2014-02-13|    87.0|2014-02-13|       1369.2937|\n",
      "|2014-02-13 21:20:00|        3.0|2014-02-13|    81.0|2014-02-13|       1217.5098|\n",
      "|2014-02-13 11:50:00|        6.0|2014-02-13|    76.0|2014-02-13|       1193.4978|\n",
      "|2014-02-13 11:20:00|        6.0|2014-02-13|    76.0|2014-02-13|       1193.4978|\n",
      "|2014-02-13 17:50:00|        5.0|2014-02-13|    70.0|2014-02-13|        1048.627|\n",
      "|2014-02-13 11:00:00|        6.0|2014-02-13|    69.0|2014-02-13|       1051.8394|\n",
      "|2014-02-13 05:50:00|        2.0|2014-02-13|    93.0|2014-02-13|       1436.2725|\n",
      "|2014-02-13 20:50:00|        3.0|2014-02-13|    81.0|2014-02-13|       1217.5098|\n",
      "+-------------------+-----------+----------+--------+----------+----------------+\n",
      "only showing top 20 rows\n",
      "\n"
     ]
    }
   ],
   "source": [
    "# Define the coefficients for the formula\n",
    "c1, c2, c3, c4, c5, c6, c7, c8, c9 = -42.379, 2.04901523, 10.14333127, -0.22475541, \\\n",
    "    -6.83783e-03, -5.481717e-02, 1.22874e-03, 8.5282e-04, -1.99e-06\n",
    "\n",
    "# Calculate the discomfort index using the formula\n",
    "temperature_humidity_data = merged_data.withColumn(\n",
    "    \"discomfort_index\",\n",
    "    c1 + c2 * col(\"temperature\") + c3 * col(\"humidity\") - c4 * col(\"temperature\") * col(\"humidity\") - \\\n",
    "    c5 * col(\"temperature\") ** 2 - c6 * col(\"humidity\") ** 2 + c7 * col(\"temperature\") ** 2 * col(\"humidity\") + \\\n",
    "    c8 * col(\"temperature\") * col(\"humidity\") ** 2 - c9 * col(\"temperature\") ** 2 * col(\"humidity\") ** 2\n",
    ")\n",
    "\n",
    "temperature_humidity_data = temperature_humidity_data.withColumn(\"discomfort_index\", col(\"discomfort_index\").cast(\"float\"))\n",
    "\n",
    "\n",
    "# Show the DataFrame with the calculated discomfort index\n",
    "temperature_humidity_data.show()"
   ]
  },
  {
   "cell_type": "code",
   "execution_count": 29,
   "metadata": {},
   "outputs": [
    {
     "name": "stdout",
     "output_type": "stream",
     "text": [
      "The maximum discomfort index value is: 1922.66357421875\n",
      "It occurs on the date: 2014-05-23 19:50:00 with a discomfort index of 1922.66357421875\n"
     ]
    }
   ],
   "source": [
    "# Find the maximum discomfort index value\n",
    "max_discomfort_index = temperature_humidity_data.agg(max(\"discomfort_index\").alias(\"max_discomfort_index\")).first()[\"max_discomfort_index\"]\n",
    "\n",
    "min_discomfort_index = temperature_humidity_data.agg(min(\"discomfort_index\").alias(\"min_discomfort_index\")).first()[\"min_discomfort_index\"]\n",
    "\n",
    "# Find the date corresponding to the maximum discomfort index\n",
    "date_with_max_discomfort = temperature_humidity_data.filter(col(\"discomfort_index\") == max_discomfort_index).select(\"timestamp\", \"discomfort_index\").first()\n",
    "\n",
    "# Find the date corresponding to the minimum discomfort index\n",
    "date_with_min_discomfort = temperature_humidity_data.filter(col(\"discomfort_index\") == min_discomfort_index).select(\"timestamp\", \"discomfort_index\").first()\n",
    "\n",
    "\n",
    "print(f\"Η μέγιστη τιμή δυσφορίας είναι: {max_discomfort_index} και εμφανίζεται στην ημερομινία: {date_with_max_discomfort['timestamp']}\")\n",
    "print(f\"Η ελάχιστη τιμή δυσφορίας είναι: {min_discomfort_index} και εμφανίζεται στην ημερομινία: {date_with_min_discomfort['timestamp']}\")"
   ]
  }
 ],
 "metadata": {
  "kernelspec": {
   "display_name": "Python 3",
   "language": "python",
   "name": "python3"
  },
  "language_info": {
   "codemirror_mode": {
    "name": "ipython",
    "version": 3
   },
   "file_extension": ".py",
   "mimetype": "text/x-python",
   "name": "python",
   "nbconvert_exporter": "python",
   "pygments_lexer": "ipython3",
   "version": "3.10.7"
  }
 },
 "nbformat": 4,
 "nbformat_minor": 2
}
